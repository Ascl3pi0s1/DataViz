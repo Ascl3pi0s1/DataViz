{
  "cells": [
    {
      "cell_type": "raw",
      "metadata": {},
      "source": [
        "---\n",
        "title: Script data visualisation\n",
        "format:\n",
        "  html:\n",
        "    toc: true\n",
        "execute:\n",
        "  echo: false\n",
        "---"
      ],
      "id": "0917e9df"
    },
    {
      "cell_type": "code",
      "metadata": {},
      "source": [
        "import pandas as pd\n",
        "import numpy as np \n",
        "import matplotlib.pyplot as plt \n",
        "import seaborn as sns\n",
        "import plotly.express as px\n",
        "import plotly.graph_objects as go\n",
        "import folium\n",
        "import geopandas\n",
        "\n",
        "df = pd.read_csv(\"data/consolidation-etalab-schema-irve-statique-v-2.2.0-20230207.csv\")\n",
        "\n",
        "df_short= (\n",
        "    df\n",
        "    .loc[:,[\"id_station_local\",\"nom_station\", \"code_insee_commune\", \"nbre_pdc\", \"gratuit\", \"consolidated_longitude\", \"consolidated_latitude\"]]\n",
        ")\n",
        "\n",
        "\n",
        "geo_data = geopandas.read_file(\"data\\communes-version-simplifiee.geojson\")\n",
        "\n",
        "\n",
        "df_short = (\n",
        "    df\n",
        "    .loc[:,[\"id_station_local\",\"nom_station\", \"code_insee_commune\", \"nbre_pdc\", \"gratuit\", \"consolidated_longitude\", \"consolidated_latitude\"]]\n",
        "    .dropna(subset = [\"nbre_pdc\", \"code_insee_commune\"])\n",
        "    .assign(code_insee_commune = lambda df_: df_.code_insee_commune.str.replace(\".0\",\"\", regex = False))\n",
        "    .groupby(by = \"code_insee_commune\")\n",
        "    .agg({\"nbre_pdc\": np.sum, \n",
        "          \"consolidated_longitude\":\"first\",\n",
        "          \"consolidated_latitude\":\"first\",\n",
        "          })\n",
        "\n",
        "    .reset_index()\n",
        "\n",
        ")\n",
        "\n",
        "df_shortGeometry = df_short.merge(\n",
        "    geo_data,\n",
        "    left_on = \"code_insee_commune\",\n",
        "    right_on = \"code\"\n",
        ").dropna(subset =[\"geometry\"])\n",
        "\n",
        "df_shortGeometry = geopandas.GeoDataFrame(df_shortGeometry)\n",
        "df_shortGeometry [\"logpdc\"]=np.log(df_shortGeometry.nbre_pdc)"
      ],
      "id": "7e1a0c4c",
      "execution_count": null,
      "outputs": []
    },
    {
      "cell_type": "markdown",
      "metadata": {},
      "source": [
        "<<<<<<< HEAD\n",
        "\n",
        "Carte de la france représantant le nombre de borne Electrique par commune\n"
      ],
      "id": "8ea1a715"
    },
    {
      "cell_type": "markdown",
      "metadata": {},
      "source": [
        "fig=px.choropleth_mapbox(df_shortGeometry,\n",
        "                           geojson=df_shortGeometry.geometry,\n",
        "                           locations=df_shortGeometry.index,\n",
        "                           color=\"logpdc\",\n",
        "                           center={\"lat\": 45.5517, \"lon\": 5},\n",
        "                           mapbox_style=\"open-street-map\",\n",
        "                           zoom=5,\n",
        "                           color_continuous_scale=[\"wheat\",\"burlywood\",\"orangered\",\"red\",\"darkred\",\"purple\"],\n",
        "                           hover_name = \"nom\",\n",
        "                           hover_data=['nbre_pdc'],\n",
        "                           title= \"Carte de la france représantant le nombre de borne Electrique par commune\",\n",
        "                           labels={'nbre_pdc': 'Borne par ville'}\n",
        "                           )\n",
        "fig.update_layout(legend_title_text=\"sample data\")\n",
        "fig.show()\n",
        "=======\n",
        "# Gestion population \n"
      ],
      "id": "4dfe8c15"
    },
    {
      "cell_type": "code",
      "metadata": {},
      "source": [
        "pop = pd.read_csv(\"data/pop/donnees_communes.csv\", sep = \";\")\n",
        "pop"
      ],
      "id": "e4547b21",
      "execution_count": null,
      "outputs": []
    },
    {
      "cell_type": "code",
      "metadata": {},
      "source": [
        "meta_pop = pd.read_csv(\"data/pop/metadonnees_communes.csv\", sep = \";\")\n",
        "\n",
        "meta_pop = (\n",
        "  meta_pop\n",
        "  .loc[meta_pop.cod_var == \"COM\",:]\n",
        ")\n",
        "meta_pop"
      ],
      "id": "92957d7b",
      "execution_count": null,
      "outputs": []
    },
    {
      "cell_type": "code",
      "metadata": {},
      "source": [
        "pop[\"code_commune\"] = meta_pop.cod_mod.values\n",
        "pop"
      ],
      "id": "e7577454",
      "execution_count": null,
      "outputs": []
    },
    {
      "cell_type": "code",
      "metadata": {},
      "source": [
        "df_merged_pop = df_short.merge(\n",
        "  pop,\n",
        "  left_on = \"code_insee_commune\",\n",
        "  right_on = \"code_commune\"\n",
        ")\n",
        "\n",
        "df_merged_pop[\"hab_par_pompe\"] = df_merged_pop.PMUN / df_merged_pop.nbre_pdc\n",
        "\n",
        "\n",
        "df_merged_popGeom = df_merged_pop.merge(\n",
        "    geo_data,\n",
        "    left_on = \"code_insee_commune\",\n",
        "    right_on = \"code\"\n",
        ")"
      ],
      "id": "0d89da09",
      "execution_count": null,
      "outputs": []
    },
    {
      "cell_type": "markdown",
      "metadata": {},
      "source": [
        "# Gestion parc voiture\n"
      ],
      "id": "30bae48c"
    },
    {
      "cell_type": "code",
      "metadata": {},
      "source": [
        "df_parc = pd.read_csv(\"data/voitures-par-commune-par-energie.csv\", sep = \";\")\n",
        "\n",
        "df_parc_parCommune = (\n",
        "  df_parc\n",
        "  .loc[df_parc.date_arrete == \"2022-12-31\",:]\n",
        "  .groupby(by = \"codgeo\")\n",
        "  .agg({\"nb_vp_rechargeables_el\": np.sum,\n",
        "  \t    \"nb_vp_rechargeables_gaz\": np.sum,\n",
        "    \t  \"nb_vp\": np.sum,\n",
        "        \"libgeo\": \"first\"})\n",
        "  .reset_index()\n",
        ")\n",
        ">>>>>>> merged_pop"
      ],
      "id": "75dfcdde",
      "execution_count": null,
      "outputs": []
    },
    {
      "cell_type": "markdown",
      "metadata": {},
      "source": [
        "## Analyse de voiture par habitant:\n",
        "\n",
        "voiture\n"
      ],
      "id": "ed8ce0a3"
    },
    {
      "cell_type": "code",
      "metadata": {},
      "source": [
        "def add_departements(df, insee_key):\n",
        "  meta_depart = pd.read_csv('data/pop/metadonnees_departements.csv', sep = \";\")\n",
        "  meta_depart = (\n",
        "    meta_depart\n",
        "    .loc[meta_depart.lib_var == \"Département\",[\"cod_mod\", \"lib_mod\"]]\n",
        "  )\n",
        "\n",
        "  df = (\n",
        "    df\n",
        "    .assign(code_dep = df[insee_key].str.slice(0,2))\n",
        "  )\n",
        "\n",
        "  df = df.merge(\n",
        "    meta_depart,\n",
        "    left_on = \"code_dep\",\n",
        "    right_on = \"cod_mod\"\n",
        "  )\n",
        "\n",
        "  return df"
      ],
      "id": "67ebe6a1",
      "execution_count": null,
      "outputs": []
    },
    {
      "cell_type": "markdown",
      "metadata": {},
      "source": [
        "# Grapĥiques\n"
      ],
      "id": "f29d3022"
    },
    {
      "cell_type": "code",
      "metadata": {},
      "source": [
        "nb_pdc_departement = (\n",
        "  add_departements(df_short, \"code_insee_commune\")\n",
        "  .groupby(by = \"code_dep\")\n",
        "  .agg({\"nbre_pdc\": np.sum,\n",
        "        \"lib_mod\": \"first\"}) \n",
        "  .reset_index()\n",
        "  \n",
        ")\n",
        "nb_pdc_departement"
      ],
      "id": "4bce4bf5",
      "execution_count": null,
      "outputs": []
    },
    {
      "cell_type": "code",
      "metadata": {},
      "source": [
        "parc_dep = (\n",
        "  add_departements(df_parc_parCommune, \"codgeo\")\n",
        "  .groupby(by = \"code_dep\")\n",
        "  .agg({\"nb_vp\": np.sum,\n",
        "        \"nb_vp_rechargeables_el\": np.sum}) \n",
        "  .reset_index()\n",
        "  \n",
        "\n",
        ")\n",
        "parc_dep"
      ],
      "id": "ddcd70a4",
      "execution_count": null,
      "outputs": []
    },
    {
      "cell_type": "code",
      "metadata": {},
      "source": [
        "pop_dep = pd.read_csv(\"data/pop/donnees_departements.csv\", sep = \";\")\n",
        "\n",
        "pop_dep = pop_dep.loc[:,[\"CODDEP\", \"PMUN\"]]\n",
        "pop_dep"
      ],
      "id": "d1092bd2",
      "execution_count": null,
      "outputs": []
    },
    {
      "cell_type": "code",
      "metadata": {},
      "source": [
        "px.scatter(nb_pdc_departement.merge(\n",
        "                                  parc_dep,\n",
        "                                  on = \"code_dep\"\n",
        "                                ).merge(\n",
        "                                  pop_dep,\n",
        "                                  left_on = \"code_dep\",\n",
        "                                  right_on = \"CODDEP\"\n",
        "                                ),\n",
        "x = \"nb_vp_rechargeables_el\",\n",
        "y = \"nbre_pdc\",\n",
        "hover_name = \"lib_mod\",\n",
        "color = \"PMUN\",\n",
        "trendline = \"ols\"\n",
        "\n",
        ")"
      ],
      "id": "e3be30c6",
      "execution_count": null,
      "outputs": []
    },
    {
      "cell_type": "markdown",
      "metadata": {},
      "source": [
        "## Scatter departements\n",
        "faire apparaitre les départements:\n",
        "- \n",
        "\n",
        "\n",
        "\n",
        "# Carte intréactive\n",
        "\n",
        "## Scatter: Stations de recharge\n"
      ],
      "id": "3a4c642e"
    },
    {
      "cell_type": "code",
      "metadata": {},
      "source": [
        "px.scatter_mapbox(\n",
        "  df,\n",
        "  lat = \"consolidated_latitude\",\n",
        "  lon = \"consolidated_longitude\",\n",
        "  mapbox_style = \"open-street-map\",\n",
        "  hover_name = \"nom_station\",\n",
        "  center = go.layout.mapbox.Center(\n",
        "            lat=45.18839381524741,\n",
        "            lon=5.724469855557955\n",
        "  ),\n",
        "  zoom = 13\n",
        ")"
      ],
      "id": "22ee969c",
      "execution_count": null,
      "outputs": []
    },
    {
      "cell_type": "markdown",
      "metadata": {},
      "source": [
        "## Choropleth: Nombre de points de recharge par commune\n",
        "\n",
        "TODO: Prendre le taux par habitant \n"
      ],
      "id": "b3b9e12c"
    },
    {
      "cell_type": "code",
      "metadata": {},
      "source": [
        "px.choropleth_mapbox(\n",
        "  df_shortGeometry,\n",
        "  geojson=df_shortGeometry.geometry,\n",
        "  locations=df_shortGeometry.index,\n",
        "  color=\"nbre_pdc\",\n",
        "  center={\"lat\": 45.18839381524741, \"lon\": 5.724469855557955},\n",
        "  mapbox_style=\"open-street-map\",\n",
        "  zoom=10,\n",
        "  hover_name = \"nom\",\n",
        "\n",
        ")"
      ],
      "id": "db648031",
      "execution_count": null,
      "outputs": []
    },
    {
      "cell_type": "code",
      "metadata": {},
      "source": [
        "to_choro = (\n",
        "  geopandas.GeoDataFrame(df_merged_popGeom)\n",
        "  .dropna(subset = \"geometry\")\n",
        "  .loc[:,[\"geometry\", \"code_insee_commune\", \"nbre_pdc\", \"hab_par_pompe\", \"nom\"]]\n",
        ")\n",
        "to_choro"
      ],
      "id": "ae25c1b6",
      "execution_count": null,
      "outputs": []
    },
    {
      "cell_type": "code",
      "metadata": {},
      "source": [
        "px.choropleth_mapbox(\n",
        "  to_choro,\n",
        "  geojson=to_choro.geometry,\n",
        "  locations=to_choro.index,\n",
        "  color=\"hab_par_pompe\",\n",
        "  center={\"lat\": 45.18839381524741, \"lon\": 5.724469855557955},\n",
        "  mapbox_style=\"open-street-map\",\n",
        "  zoom=10,\n",
        "  hover_name = \"nom\",\n",
        "\n",
        ")"
      ],
      "id": "0fb2fe23",
      "execution_count": null,
      "outputs": []
    }
  ],
  "metadata": {
    "kernelspec": {
      "name": "python3",
      "language": "python",
      "display_name": "Python 3 (ipykernel)"
    }
  },
  "nbformat": 4,
  "nbformat_minor": 5
}