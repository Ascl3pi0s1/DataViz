{
  "cells": [
    {
      "cell_type": "raw",
      "metadata": {},
      "source": [
        "---\n",
        "title: Script data visualisation\n",
        "format:\n",
        "  html:\n",
        "    toc: true\n",
        "execute:\n",
        "  echo: false\n",
        "---"
      ],
      "id": "c75737e5"
    },
    {
      "cell_type": "code",
      "metadata": {},
      "source": [
        "import pandas as pd\n",
        "import numpy as np \n",
        "import matplotlib.pyplot as plt \n",
        "import seaborn as sns\n",
        "import plotly.express as px\n",
        "import folium\n",
        "import geopandas\n",
        "\n",
        "df = pd.read_csv(\"data/consolidation-etalab-schema-irve-statique-v-2.2.0-20230207.csv\")\n",
        "\n",
        "df_short= (\n",
        "    df\n",
        "    .loc[:,[\"id_station_local\",\"nom_station\", \"code_insee_commune\", \"nbre_pdc\", \"gratuit\", \"consolidated_longitude\", \"consolidated_latitude\"]]\n",
        ")\n",
        "\n",
        "\n",
        "geo_data = geopandas.read_file(\"data\\communes-version-simplifiee.geojson\")\n",
        "\n",
        "\n",
        "df_short = (\n",
        "    df\n",
        "    .loc[:,[\"id_station_local\",\"nom_station\", \"code_insee_commune\", \"nbre_pdc\", \"gratuit\", \"consolidated_longitude\", \"consolidated_latitude\"]]\n",
        "    .dropna(subset = [\"nbre_pdc\", \"code_insee_commune\"])\n",
        "    .assign(code_insee_commune = lambda df_: df_.code_insee_commune.str.replace(\".0\",\"\", regex = False))\n",
        "    .groupby(by = \"code_insee_commune\")\n",
        "    .agg({\"nbre_pdc\": np.sum, \n",
        "          \"consolidated_longitude\":\"first\",\n",
        "          \"consolidated_latitude\":\"first\"})\n",
        "\n",
        "    .reset_index()\n",
        "\n",
        ")\n",
        "\n",
        "df_shortGeometry = df_short.merge(\n",
        "    geo_data,\n",
        "    left_on = \"code_insee_commune\",\n",
        "    right_on = \"code\"\n",
        ").dropna(subset =[\"geometry\"])\n",
        "\n",
        "df_shortGeometry = geopandas.GeoDataFrame(df_shortGeometry)\n",
        "df_shortGeometry [\"logpdc\"]=np.log(df_shortGeometry.nbre_pdc)"
      ],
      "id": "0d5dde70",
      "execution_count": null,
      "outputs": []
    },
    {
      "cell_type": "markdown",
      "metadata": {},
      "source": [
        "Carte de la france représantant le nombre de borne Electrique par commune\n"
      ],
      "id": "27d82509"
    },
    {
      "cell_type": "code",
      "metadata": {},
      "source": [
        "fig=px.choropleth_mapbox(df_shortGeometry,\n",
        "                           geojson=df_shortGeometry.geometry,\n",
        "                           locations=df_shortGeometry.index,\n",
        "                           color=\"logpdc\",\n",
        "                           center={\"lat\": 45.5517, \"lon\": 5},\n",
        "                           mapbox_style=\"open-street-map\",\n",
        "                           zoom=5,\n",
        "                           color_continuous_scale=[\"wheat\",\"burlywood\",\"orangered\",\"red\",\"darkred\",\"purple\"],\n",
        "                           hover_name = \"nom\",\n",
        "                           hover_data=['nbre_pdc'],\n",
        "                           title= \"Carte de la france représantant le nombre de borne Electrique par commune\",\n",
        "                           labels={'nbre_pdc': 'Borne par ville'}\n",
        "                           )\n",
        "fig.update_layout(legend_title_text=\"sample data\")\n",
        "fig.show()"
      ],
      "id": "8aa17c3b",
      "execution_count": null,
      "outputs": []
    }
  ],
  "metadata": {
    "kernelspec": {
      "display_name": "Python 3",
      "language": "python",
      "name": "python3"
    }
  },
  "nbformat": 4,
  "nbformat_minor": 5
}